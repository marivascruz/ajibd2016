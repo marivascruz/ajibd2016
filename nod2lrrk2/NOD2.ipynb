{
 "cells": [
  {
   "cell_type": "markdown",
   "metadata": {},
   "source": [
    "<h1 id=\"tocheading\">Table of Contents</h1>\n",
    "<div id=\"toc\"></div>"
   ]
  },
  {
   "cell_type": "code",
   "execution_count": 347,
   "metadata": {
    "collapsed": false
   },
   "outputs": [
    {
     "data": {
      "application/javascript": [
       "$.getScript('https://kmahelona.github.io/ipython_notebook_goodies/ipython_notebook_toc.js')"
      ],
      "text/plain": [
       "<IPython.core.display.Javascript object>"
      ]
     },
     "metadata": {},
     "output_type": "display_data"
    }
   ],
   "source": [
    "%%javascript\n",
    "$.getScript('https://kmahelona.github.io/ipython_notebook_goodies/ipython_notebook_toc.js')"
   ]
  },
  {
   "cell_type": "code",
   "execution_count": 312,
   "metadata": {
    "collapsed": false
   },
   "outputs": [],
   "source": [
    "%matplotlib inline\n",
    "import matplotlib\n",
    "import numpy as np\n",
    "import matplotlib.pyplot as plt\n",
    "from __future__ import division\n",
    "from __future__ import print_function\n",
    "import os,sys\n",
    "import gzip \n",
    "import numpy \n",
    "import rpy2 \n",
    "import rpy2.robjects as robjects\n",
    "import pyplinkseq"
   ]
  },
  {
   "cell_type": "markdown",
   "metadata": {},
   "source": [
    "## Assessing independent effects of protein-altering *NOD2* alleles \n",
    "\n",
    "In this section we jointly analyze the genotype and phenotype data across the eight associated enriched alleles."
   ]
  },
  {
   "cell_type": "code",
   "execution_count": 313,
   "metadata": {
    "collapsed": false
   },
   "outputs": [],
   "source": [
    "## Set PLINK/SEQ project\n",
    "pyplinkseq.set_project('ibdxjup')\n",
    "pyplinkseq.locdbattach('/humgen/gsa-hphome1/rivas/ibdseq/resources/locdb')\n",
    "pyplinkseq.seqdbattach('/humgen/gsa-hphome1/rivas/ibdseq/resources/seqdb')\n",
    "pyplinkseq.annotate_load('gencode')"
   ]
  },
  {
   "cell_type": "code",
   "execution_count": 314,
   "metadata": {
    "collapsed": false
   },
   "outputs": [],
   "source": [
    "inds = pyplinkseq.ind_fetch('indiv=@vcftmp/ajcd.indivs', 'cd')\n",
    "var = pyplinkseq.var_fetch('indiv=@vcftmp/ajcd.indivs downcode reg=chr16:50756540,chr16:50763778,chr16:50750810,chr16:50733392,chr16:50745656,chr16:50745926,chr16:50744892,chr16:50744565')"
   ]
  },
  {
   "cell_type": "markdown",
   "metadata": {},
   "source": [
    "The list of attributes available for instance <code>inds</code> and array of instances <code>var</code>: "
   ]
  },
  {
   "cell_type": "code",
   "execution_count": 315,
   "metadata": {
    "collapsed": false
   },
   "outputs": [
    {
     "data": {
      "text/plain": [
       "['PHENO', 'ID']"
      ]
     },
     "execution_count": 315,
     "metadata": {},
     "output_type": "execute_result"
    }
   ],
   "source": [
    "inds.__dict__.keys()"
   ]
  },
  {
   "cell_type": "code",
   "execution_count": 316,
   "metadata": {
    "collapsed": false
   },
   "outputs": [],
   "source": [
    "phenotypedict = {}\n",
    "phenotypearr = []\n",
    "for i in range(0,len(inds.PHENO.PHENOTYPE)):\n",
    "    phenotypearr.append(int(inds.PHENO.PHENOTYPE[i]) - 1)\n",
    "    phenotypedict[inds.ID[i]] = int(inds.PHENO.PHENOTYPE[i]) - 1\n",
    "phenotypearr = numpy.array(phenotypearr)"
   ]
  },
  {
   "cell_type": "code",
   "execution_count": 317,
   "metadata": {
    "collapsed": false
   },
   "outputs": [
    {
     "data": {
      "text/plain": [
       "['BP1', 'CHR', 'BP2', 'NS', 'ID', 'CON']"
      ]
     },
     "execution_count": 317,
     "metadata": {},
     "output_type": "execute_result"
    }
   ],
   "source": [
    "var[0].__dict__.keys()"
   ]
  },
  {
   "cell_type": "markdown",
   "metadata": {},
   "source": [
    "The <code>Variant</code> instance supports <code>BP1, CHR, BP2, NS, ID, CON</code>, which rerepresents the beginning genomic coordinate, the chromosome, end of the spanning genomic coordinate, number of samples, variant id, and a <code>SampleVariant</code> instance: <code>CON</code>. "
   ]
  },
  {
   "cell_type": "code",
   "execution_count": 318,
   "metadata": {
    "collapsed": false
   },
   "outputs": [
    {
     "data": {
      "text/plain": [
       "<pyplinkseq.SampleVariant instance at 0x7fdf512a5e18>"
      ]
     },
     "execution_count": 318,
     "metadata": {},
     "output_type": "execute_result"
    }
   ],
   "source": [
    "var[0].CON"
   ]
  },
  {
   "cell_type": "code",
   "execution_count": 319,
   "metadata": {
    "collapsed": false
   },
   "outputs": [
    {
     "data": {
      "text/plain": [
       "['QUAL', 'FSET', 'REF', 'ALT', 'GENO']"
      ]
     },
     "execution_count": 319,
     "metadata": {},
     "output_type": "execute_result"
    }
   ],
   "source": [
    "var[0].CON.__dict__.keys()"
   ]
  },
  {
   "cell_type": "code",
   "execution_count": 320,
   "metadata": {
    "collapsed": false
   },
   "outputs": [
    {
     "data": {
      "text/plain": [
       "<pyplinkseq.Genotype instance at 0x7fdf4f4a1758>"
      ]
     },
     "execution_count": 320,
     "metadata": {},
     "output_type": "execute_result"
    }
   ],
   "source": [
    "var[0].CON.GENO"
   ]
  },
  {
   "cell_type": "markdown",
   "metadata": {},
   "source": [
    "The <code>SampleVariant</code> instance supports <code>QUAL, FSET, REF, ALT, GENO</code>, which rerepresents the quality of the variant, FSET, reference allele, alternate allele, and a <code>Genotype</code> instance: <code>GENO</code>, which contains the genotype data."
   ]
  },
  {
   "cell_type": "code",
   "execution_count": 321,
   "metadata": {
    "collapsed": false
   },
   "outputs": [
    {
     "data": {
      "text/plain": [
       "['GT']"
      ]
     },
     "execution_count": 321,
     "metadata": {},
     "output_type": "execute_result"
    }
   ],
   "source": [
    "var[0].CON.GENO.__dict__.keys()"
   ]
  },
  {
   "cell_type": "code",
   "execution_count": 322,
   "metadata": {
    "collapsed": false
   },
   "outputs": [],
   "source": [
    "varids = []\n",
    "for i in range(0,len(var)):\n",
    "    varids.append(str(var[i].CHR) + ':' + str(var[i].BP1) + '_' + str(var[i].CON.REF) + '/' + str(var[i].CON.ALT))"
   ]
  },
  {
   "cell_type": "markdown",
   "metadata": {},
   "source": [
    "The variants we are analyzing correspond to the following alleles in *NOD2*: "
   ]
  },
  {
   "cell_type": "code",
   "execution_count": 323,
   "metadata": {
    "collapsed": false
   },
   "outputs": [
    {
     "name": "stdout",
     "output_type": "stream",
     "text": [
      "16:50733392_T/A .\n",
      "16:50744565_T/G .,p.248L>R\n",
      "16:50744892_A/C p.357D>A\n",
      "16:50745656_G/A,T p.612A>T,p.612A>S\n",
      "16:50745926_C/T p.702R>W\n",
      "16:50750810_A/G p.852N>S\n",
      "16:50756540_G/C,T p.48G>R,p.48G>C,p.908G>R,p.908G>C\n",
      "16:50763778_G/GC p.L147PfsX1\n"
     ]
    }
   ],
   "source": [
    "for i in range(0,len(var)):\n",
    "    details = pyplinkseq.annotate(var[i].CHR,var[i].BP1,var[i].CON.REF,var[i].CON.ALT,\"details\",\"\")\n",
    "    hgvs = [j.split('=')[1] for j in details.split(',') if j.split('=')[0] == 'HGVS']\n",
    "    prachange = pyplinkseq.annotate(var[i].CHR,var[i].BP1,var[i].CON.REF,var[i].CON.ALT,\"protein\",\"\")\n",
    "    if len(hgvs) > 1:\n",
    "        print(str(var[i].CHR) + ':' + str(var[i].BP1) + '_' + var[i].CON.REF + '/' + var[i].CON.ALT,hgvs[0])\n",
    "    else:\n",
    "        print(str(var[i].CHR) + ':' + str(var[i].BP1) + '_' + var[i].CON.REF + '/' + var[i].CON.ALT,prachange)"
   ]
  },
  {
   "cell_type": "markdown",
   "metadata": {},
   "source": [
    "Let's create a multi-dimensional array of genotypes."
   ]
  },
  {
   "cell_type": "code",
   "execution_count": 324,
   "metadata": {
    "collapsed": false
   },
   "outputs": [],
   "source": [
    "genotypelists = []\n",
    "for varnum in xrange(int(var.__len__())):\n",
    "    genos = []\n",
    "    for genotypenum in xrange(len(var[varnum].CON.GENO.GT)):\n",
    "        genos.append(var[varnum].CON.GENO.GT[genotypenum])\n",
    "    genos = [gt if gt >= 0 else 0 for gt in genos]\n",
    "    genotypelists.append(genos)"
   ]
  },
  {
   "cell_type": "code",
   "execution_count": 325,
   "metadata": {
    "collapsed": false
   },
   "outputs": [
    {
     "name": "stdout",
     "output_type": "stream",
     "text": [
      "(4912, 8) (4912,)\n"
     ]
    }
   ],
   "source": [
    "# Indices for R702W, fs1007insC, and G908R: 4,6,7 ; N852S: 5 ; add A612T : 3 ; add splice region variant : 0 ; add L248R : 1 ; add D357A : 2\n",
    "genotypelists = numpy.array(genotypelists)\n",
    "genotypelists = genotypelists.T\n",
    "print(genotypelists.shape,phenotypearr.shape)"
   ]
  },
  {
   "cell_type": "markdown",
   "metadata": {
    "collapsed": true
   },
   "source": [
    "We will use Bayesian model averaging package from Adrian Raftery https://cran.r-project.org/web/packages/BMA/BMA.pdf  "
   ]
  },
  {
   "cell_type": "code",
   "execution_count": 326,
   "metadata": {
    "collapsed": false
   },
   "outputs": [
    {
     "name": "stdout",
     "output_type": "stream",
     "text": [
      "\n",
      "Call:\n",
      "bic.glm.matrix(x = x, y = y, glm.family = \"binomial\", strict = FALSE,     OR = 30, factor.type = FALSE)\n",
      "\n",
      "\n",
      "  3  models were selected\n",
      " Best  3  models (cumulative posterior probability =  1 ): \n",
      "\n",
      "                    p!=0    EV      SD       model 1     model 2     model 3   \n",
      "Intercept           100    -0.7863  0.03652  -7.851e-01  -7.934e-01  -7.551e-01\n",
      "X16.50733392_T.A     96.5   0.4711  0.15405   4.862e-01   4.939e-01       .    \n",
      "X16.50744565_T.G    100.0   0.9721  0.25164   9.738e-01   9.701e-01   9.544e-01\n",
      "X16.50744892_A.C     27.3   0.2190  0.39317       .       8.030e-01       .    \n",
      "X16.50745656_G.A.T  100.0   1.4138  0.26994   1.415e+00   1.411e+00   1.416e+00\n",
      "X16.50745926_C.T    100.0   0.5407  0.12960   5.390e-01   5.468e-01   5.275e-01\n",
      "X16.50750810_A.G    100.0   0.7239  0.16211   7.236e-01   7.266e-01   7.076e-01\n",
      "X16.50756540_G.C.T  100.0   0.8521  0.09474   8.520e-01   8.536e-01   8.415e-01\n",
      "X16.50763778_G.GC   100.0   1.0078  0.10736   1.009e+00   1.005e+00   9.996e-01\n",
      "                                                                               \n",
      "nVar                                            7           8           6      \n",
      "BIC                                          -3.543e+04  -3.543e+04  -3.543e+04\n",
      "post prob                                     0.692       0.273       0.035    \n",
      "[1]  96.5 100.0  27.3 100.0 100.0 100.0 100.0 100.0\n",
      "[1] -0.7862796  0.4710585  0.9721372  0.2189865  1.4137708  0.5407160  0.7238754\n",
      "[8]  0.8520549  1.0077616\n",
      "[1] 0.03652027 0.15405033 0.25164310 0.39316859 0.26994048 0.12960223 0.16211354\n",
      "[8] 0.09473846 0.10735842\n"
     ]
    }
   ],
   "source": [
    "import rpy2.robjects as ro\n",
    "import rpy2.robjects.numpy2ri\n",
    "rpy2.robjects.numpy2ri.activate()\n",
    "\n",
    "x = genotypelists\n",
    "nr,nc = x.shape\n",
    "xr = ro.r.matrix(x, nrow=nr, ncol=nc)\n",
    "ro.r.assign(\"xr\", x)\n",
    "ro.r.assign(\"var.ids\", robjects.StrVector(varids))\n",
    "y = phenotypearr\n",
    "nr = y.shape[0]\n",
    "nc = 1\n",
    "yr = ro.r.matrix(y, nrow=nr, ncol=nc)\n",
    "ro.r.assign(\"yr\", y)\n",
    "\n",
    "robjects.r('''\n",
    "library(\"BMA\")\n",
    "rafnod2 <- function(x,y){\n",
    "colnames(x) <- var.ids\n",
    "glm.out.FF <- bic.glm(x, y, strict = FALSE, OR = 30,\n",
    "glm.family=\"binomial\", factor.type=FALSE)\n",
    "summary(glm.out.FF)\n",
    "print(glm.out.FF$probne0)\n",
    "png(\"bicglm.png\")\n",
    "imageplot.bma(glm.out.FF)\n",
    "dev.off()\n",
    "\n",
    "pdf(\"posterior_bmaseFINALv2.pdf\")\n",
    "par(mar=c(7.1, 4.1, 4.1, 2.1))\n",
    "plot(0,0,col=\"white\", xlim=c(0,1+length(var.ids)),ylim=c(-.5,6),xlab=\"\",xaxt=\"n\",ylab=\"Posterior odds ratios\",main=\"\",xaxs=\"i\",yaxs=\"i\",cex.lab=1.2,cex.axis=1.3,cex.main=1.3)\n",
    "abline(h=0,lty=2)\n",
    "for(i in 1:length(var.ids)){\n",
    "    arrows(i,exp(glm.out.FF$postmean[i+1] - glm.out.FF$postsd[i+1]),i,exp(glm.out.FF$postmean[i+1] + glm.out.FF$postsd[i+1]), code = 0, angle = 90, lwd=1.5, col = rgb(0,0,0))\n",
    "    points(i,exp(glm.out.FF$postmean[i+1]),pch=16,cex=1.5, col = rgb(0,0,0))\n",
    " }\n",
    "axis(1,at=seq(1,length(var.ids),1),labels=var.ids, las = 2, cex.axis = .7)\n",
    "dev.off()\n",
    "\n",
    "png(\"posterior_mle.png\")\n",
    "par(mar=c(7.1, 4.1, 4.1, 2.1))\n",
    "plot(0,0,col=\"white\", xlim=c(0,1+length(var.ids)),ylim=c(-.5,6),xlab=\"\",xaxt=\"n\",ylab=\"Best model MLE odds ratios\",main=\"\",xaxs=\"i\",yaxs=\"i\",cex.lab=1.2,cex.axis=1.3,cex.main=1.3)\n",
    "abline(h=0,lty=2)\n",
    "for(i in 1:length(var.ids)){\n",
    "arrows(i,exp(glm.out.FF$mle[1,i+1] - glm.out.FF$se[1,i+1]),i,exp(glm.out.FF$mle[1,i+1] + glm.out.FF$se[1,i+1]), code = 0, angle = 90, lwd=1.5, col = rgb(0,0,0,.5))\n",
    "  points(i,exp(glm.out.FF$mle[1,i+1]),pch=16,cex=1.5, col = rgb(0,0,0,.5))\n",
    "  }\n",
    "axis(1,at=seq(1,length(var.ids),1),labels=var.ids, las = 2, cex.axis = .7)\n",
    "dev.off()\n",
    "print(glm.out.FF$postmean)\n",
    "print(glm.out.FF$postsd)\n",
    "return(glm.out.FF)\n",
    "\n",
    "}\n",
    "''')\n",
    "pltf = robjects.globalenv['rafnod2']\n",
    "pltf = robjects.r['rafnod2']\n",
    "res = pltf(xr,yr)\n",
    "\n",
    "\n"
   ]
  },
  {
   "cell_type": "markdown",
   "metadata": {},
   "source": [
    "<code>p!=0</code> represents the posterior probability that each variable is non-zero (in percent)."
   ]
  },
  {
   "cell_type": "markdown",
   "metadata": {},
   "source": [
    "![title](img/bicglm.png)"
   ]
  },
  {
   "cell_type": "markdown",
   "metadata": {},
   "source": [
    "The dominating models include all the variants and possibly exclude D357A from the calculations. "
   ]
  },
  {
   "cell_type": "markdown",
   "metadata": {},
   "source": [
    "![Posterior odds ratio (after model average)](img/posterior_bmaseFINALv2.png)"
   ]
  },
  {
   "cell_type": "markdown",
   "metadata": {},
   "source": [
    "We show the the posterior standard odds ratio and standard error (from model averaging), and below the posterior maximum likelihood odds ratio and standard error for the model with the highest probability (model 1)."
   ]
  },
  {
   "cell_type": "markdown",
   "metadata": {},
   "source": [
    "![title](img/posterior_mle.png)"
   ]
  },
  {
   "cell_type": "markdown",
   "metadata": {},
   "source": [
    "## Assessing additivity in *NOD2*\n",
    "\n",
    "In this section we evaluate whether any departure from additivity exists for the NOD2 alleles. Hence, we evaluate RR if 0,1, or 2 alleles. "
   ]
  },
  {
   "cell_type": "code",
   "execution_count": 327,
   "metadata": {
    "collapsed": false
   },
   "outputs": [
    {
     "data": {
      "text/plain": [
       "(4912,)"
      ]
     },
     "execution_count": 327,
     "metadata": {},
     "output_type": "execute_result"
    }
   ],
   "source": [
    "nod2dosage = numpy.sum(x,axis = 1)\n",
    "nod2dosage[nod2dosage > 2] = 2 \n",
    "nod2dosage.shape"
   ]
  },
  {
   "cell_type": "code",
   "execution_count": 328,
   "metadata": {
    "collapsed": false
   },
   "outputs": [
    {
     "name": "stdout",
     "output_type": "stream",
     "text": [
      "[1] \"GENOTYPE\"\n",
      "\n",
      "Call:\n",
      "glm(formula = y ~ as.factor(x), family = \"binomial\")\n",
      "\n",
      "Deviance Residuals: \n",
      "    Min       1Q   Median       3Q      Max  \n",
      "-1.7773  -0.8757  -0.8757   1.2485   1.5128  \n",
      "\n",
      "Coefficients:\n",
      "              Estimate Std. Error z value Pr(>|z|)    \n",
      "(Intercept)   -0.76087    0.03654  -20.82   <2e-16 ***\n",
      "as.factor(x)1  0.59535    0.06851    8.69   <2e-16 ***\n",
      "as.factor(x)2  2.10942    0.15704   13.43   <2e-16 ***\n",
      "---\n",
      "Signif. codes:  0 '***' 0.001 '**' 0.01 '*' 0.05 '.' 0.1 ' ' 1 \n",
      "\n",
      "(Dispersion parameter for binomial family taken to be 1)\n",
      "\n",
      "    Null deviance: 6514.3  on 4911  degrees of freedom\n",
      "Residual deviance: 6239.2  on 4909  degrees of freedom\n",
      "AIC: 6245.2\n",
      "\n",
      "Number of Fisher Scoring iterations: 4\n",
      "\n",
      "[1] \"ADDITIVE\"\n",
      "\n",
      "Call:\n",
      "glm(formula = y ~ as.numeric(x), family = \"binomial\")\n",
      "\n",
      "Deviance Residuals: \n",
      "    Min       1Q   Median       3Q      Max  \n",
      "-1.5380  -0.8629  -0.8629   1.1730   1.5287  \n",
      "\n",
      "Coefficients:\n",
      "              Estimate Std. Error z value Pr(>|z|)    \n",
      "(Intercept)   -0.79619    0.03601  -22.11   <2e-16 ***\n",
      "as.numeric(x)  0.80647    0.05212   15.47   <2e-16 ***\n",
      "---\n",
      "Signif. codes:  0 '***' 0.001 '**' 0.01 '*' 0.05 '.' 0.1 ' ' 1 \n",
      "\n",
      "(Dispersion parameter for binomial family taken to be 1)\n",
      "\n",
      "    Null deviance: 6514.3  on 4911  degrees of freedom\n",
      "Residual deviance: 6262.7  on 4910  degrees of freedom\n",
      "AIC: 6266.7\n",
      "\n",
      "Number of Fisher Scoring iterations: 4\n",
      "\n",
      "     nod2dosage\n",
      "pheno    0    1    2\n",
      "    0 2352  649   54\n",
      "    1 1099  550  208\n"
     ]
    }
   ],
   "source": [
    "xnod2d = nod2dosage\n",
    "nr= xnod2d.shape[0]\n",
    "nc = 1\n",
    "xrnod2d = ro.r.matrix(xnod2d, nrow=nr, ncol=nc)\n",
    "ro.r.assign(\"xr\", xrnod2d)\n",
    "yd = phenotypearr\n",
    "nr = yd.shape[0]\n",
    "nc = 1\n",
    "yrd = ro.r.matrix(yd, nrow=nr, ncol=nc)\n",
    "ro.r.assign(\"yr\", yd)\n",
    "\n",
    "robjects.r('''\n",
    "genotypenod2 <- function(x,y){\n",
    " # genotype\n",
    " fit.gen <- glm(y ~ as.factor(x), family = \"binomial\")\n",
    " # additive  \n",
    " fit.add <- glm(y ~ as.numeric(x), family = \"binomial\")\n",
    " print(\"GENOTYPE\")\n",
    " print(summary(fit.gen))\n",
    " print(\"ADDITIVE\")\n",
    " print(summary(fit.add))\n",
    " gen.phen <- data.frame(cbind(y,x))\n",
    " colnames(gen.phen) <- c(\"pheno\",\"nod2dosage\")\n",
    " print(table(gen.phen))\n",
    "}\n",
    "''')\n",
    "pltf = robjects.globalenv['genotypenod2']\n",
    "pltf = robjects.r['genotypenod2']\n",
    "res = pltf(xrnod2d,yrd)\n"
   ]
  },
  {
   "cell_type": "markdown",
   "metadata": {},
   "source": [
    "Let's exclude the frameshift indel from consideration:"
   ]
  },
  {
   "cell_type": "code",
   "execution_count": 329,
   "metadata": {
    "collapsed": false
   },
   "outputs": [
    {
     "name": "stdout",
     "output_type": "stream",
     "text": [
      "[1] \"GENOTYPE\"\n",
      "\n",
      "Call:\n",
      "glm(formula = y ~ as.factor(x), family = \"binomial\")\n",
      "\n",
      "Deviance Residuals: \n",
      "    Min       1Q   Median       3Q      Max  \n",
      "-1.7622  -0.9011  -0.9011   1.4816   1.4816  \n",
      "\n",
      "Coefficients:\n",
      "              Estimate Std. Error z value Pr(>|z|)    \n",
      "(Intercept)   -0.69153    0.03483 -19.853   <2e-16 ***\n",
      "as.factor(x)1  0.60909    0.07046   8.644   <2e-16 ***\n",
      "as.factor(x)2  2.00636    0.21203   9.463   <2e-16 ***\n",
      "---\n",
      "Signif. codes:  0 '***' 0.001 '**' 0.01 '*' 0.05 '.' 0.1 ' ' 1 \n",
      "\n",
      "(Dispersion parameter for binomial family taken to be 1)\n",
      "\n",
      "    Null deviance: 6514.3  on 4911  degrees of freedom\n",
      "Residual deviance: 6341.1  on 4909  degrees of freedom\n",
      "AIC: 6347.1\n",
      "\n",
      "Number of Fisher Scoring iterations: 4\n",
      "\n",
      "[1] \"ADDITIVE\"\n",
      "\n",
      "Call:\n",
      "glm(formula = y ~ as.numeric(x), family = \"binomial\")\n",
      "\n",
      "Deviance Residuals: \n",
      "    Min       1Q   Median       3Q      Max  \n",
      "-1.5136  -0.8946  -0.8946   1.4895   1.4895  \n",
      "\n",
      "Coefficients:\n",
      "              Estimate Std. Error z value Pr(>|z|)    \n",
      "(Intercept)   -0.70926    0.03451  -20.55   <2e-16 ***\n",
      "as.numeric(x)  0.73602    0.05869   12.54   <2e-16 ***\n",
      "---\n",
      "Signif. codes:  0 '***' 0.001 '**' 0.01 '*' 0.05 '.' 0.1 ' ' 1 \n",
      "\n",
      "(Dispersion parameter for binomial family taken to be 1)\n",
      "\n",
      "    Null deviance: 6514.3  on 4911  degrees of freedom\n",
      "Residual deviance: 6352.3  on 4910  degrees of freedom\n",
      "AIC: 6356.3\n",
      "\n",
      "Number of Fisher Scoring iterations: 4\n",
      "\n",
      "     nod2dosage\n",
      "pheno    0    1    2\n",
      "    0 2470  556   29\n",
      "    1 1237  512  108\n",
      "Analysis of Deviance Table\n",
      "\n",
      "Model 1: y ~ as.numeric(x)\n",
      "Model 2: y ~ as.factor(x)\n",
      "  Resid. Df Resid. Dev Df Deviance\n",
      "1      4910     6352.3            \n",
      "2      4909     6341.1  1   11.135\n",
      "[1] 0.003820019\n"
     ]
    }
   ],
   "source": [
    "nod2dosagesansfs = numpy.sum(x[:,0:7],axis = 1)\n",
    "nod2dosagesansfs[nod2dosagesansfs > 2] = 2 \n",
    "nod2dosagesansfs.shape\n",
    "\n",
    "xd = nod2dosagesansfs\n",
    "nr= xd.shape[0]\n",
    "nc = 1\n",
    "xrd = ro.r.matrix(xd, nrow=nr, ncol=nc)\n",
    "ro.r.assign(\"xr\", xrd)\n",
    "yd = phenotypearr\n",
    "nr = yd.shape[0]\n",
    "nc = 1\n",
    "yrd = ro.r.matrix(yd, nrow=nr, ncol=nc)\n",
    "ro.r.assign(\"yr\", yd)\n",
    "\n",
    "robjects.r('''\n",
    "genotypenod2 <- function(x,y){\n",
    " # genotype\n",
    " fit.gen <- glm(y ~ as.factor(x), family = \"binomial\")\n",
    " # additive  \n",
    " fit.add <- glm(y ~ as.numeric(x), family = \"binomial\")\n",
    " print(\"GENOTYPE\")\n",
    " print(summary(fit.gen))\n",
    " print(\"ADDITIVE\")\n",
    " print(summary(fit.add))\n",
    " gen.phen <- data.frame(cbind(y,x))\n",
    " colnames(gen.phen) <- c(\"pheno\",\"nod2dosage\")\n",
    " print(table(gen.phen))\n",
    " print(anova(fit.add,fit.gen))\n",
    " print(pchisq(11.135,2,lower.tail = F))\n",
    "}\n",
    "''')\n",
    "pltf = robjects.globalenv['genotypenod2']\n",
    "pltf = robjects.r['genotypenod2']\n",
    "res = pltf(xrd,yrd)"
   ]
  },
  {
   "cell_type": "markdown",
   "metadata": {},
   "source": [
    "Let's try the multi-locus model:"
   ]
  },
  {
   "cell_type": "code",
   "execution_count": 330,
   "metadata": {
    "collapsed": false
   },
   "outputs": [
    {
     "data": {
      "text/plain": [
       "(4854, 8)"
      ]
     },
     "execution_count": 330,
     "metadata": {},
     "output_type": "execute_result"
    }
   ],
   "source": [
    "## Compound het analysis \n",
    "idx = numpy.unique(numpy.where(x == 2)[0])\n",
    "idx.sort()\n",
    "len(idx)\n",
    "x2 = numpy.delete(x,idx,0)\n",
    "x2.shape\n"
   ]
  },
  {
   "cell_type": "code",
   "execution_count": 332,
   "metadata": {
    "collapsed": false
   },
   "outputs": [
    {
     "data": {
      "text/plain": [
       "(4854,)"
      ]
     },
     "execution_count": 332,
     "metadata": {},
     "output_type": "execute_result"
    }
   ],
   "source": [
    "## exclude fs indel\n",
    "nod2dosagesansfs = numpy.sum(x2[:,0:7],axis = 1)\n",
    "nod2dosagesansfs[nod2dosagesansfs > 2] = 2 \n",
    "nod2dosagesansfs.shape"
   ]
  },
  {
   "cell_type": "code",
   "execution_count": 333,
   "metadata": {
    "collapsed": false
   },
   "outputs": [
    {
     "name": "stdout",
     "output_type": "stream",
     "text": [
      "[1] \"GENOTYPE\"\n",
      "\n",
      "Call:\n",
      "glm(formula = y ~ as.factor(x), family = \"binomial\")\n",
      "\n",
      "Deviance Residuals: \n",
      "    Min       1Q   Median       3Q      Max  \n",
      "-1.7723  -0.8949  -0.8949   1.4891   1.4891  \n",
      "\n",
      "Coefficients:\n",
      "              Estimate Std. Error z value Pr(>|z|)    \n",
      "(Intercept)   -0.70825    0.03503 -20.216   <2e-16 ***\n",
      "as.factor(x)1  0.62580    0.07056   8.869   <2e-16 ***\n",
      "as.factor(x)2  2.04575    0.24768   8.260   <2e-16 ***\n",
      "---\n",
      "Signif. codes:  0 '***' 0.001 '**' 0.01 '*' 0.05 '.' 0.1 ' ' 1 \n",
      "\n",
      "(Dispersion parameter for binomial family taken to be 1)\n",
      "\n",
      "    Null deviance: 6409.8  on 4853  degrees of freedom\n",
      "Residual deviance: 6255.8  on 4851  degrees of freedom\n",
      "AIC: 6261.8\n",
      "\n",
      "Number of Fisher Scoring iterations: 4\n",
      "\n",
      "[1] \"ADDITIVE\"\n",
      "\n",
      "Call:\n",
      "glm(formula = y ~ as.numeric(x), family = \"binomial\")\n",
      "\n",
      "Deviance Residuals: \n",
      "    Min       1Q   Median       3Q      Max  \n",
      "-1.5007  -0.8896  -0.8896   1.4956   1.4956  \n",
      "\n",
      "Coefficients:\n",
      "              Estimate Std. Error z value Pr(>|z|)    \n",
      "(Intercept)   -0.72271    0.03477  -20.79   <2e-16 ***\n",
      "as.numeric(x)  0.72837    0.06115   11.91   <2e-16 ***\n",
      "---\n",
      "Signif. codes:  0 '***' 0.001 '**' 0.01 '*' 0.05 '.' 0.1 ' ' 1 \n",
      "\n",
      "(Dispersion parameter for binomial family taken to be 1)\n",
      "\n",
      "    Null deviance: 6409.8  on 4853  degrees of freedom\n",
      "Residual deviance: 6264.8  on 4852  degrees of freedom\n",
      "AIC: 6268.8\n",
      "\n",
      "Number of Fisher Scoring iterations: 4\n",
      "\n",
      "     nod2dosage\n",
      "pheno    0    1    2\n",
      "    0 2469  556   21\n",
      "    1 1216  512   80\n",
      "Analysis of Deviance Table\n",
      "\n",
      "Model 1: y ~ as.numeric(x)\n",
      "Model 2: y ~ as.factor(x)\n",
      "  Resid. Df Resid. Dev Df Deviance\n",
      "1      4852     6264.8            \n",
      "2      4851     6255.8  1   8.9986\n",
      "[1] 0.01111678\n"
     ]
    }
   ],
   "source": [
    "xd = nod2dosagesansfs\n",
    "nr= xd.shape[0]\n",
    "nc = 1\n",
    "xrd = ro.r.matrix(xd, nrow=nr, ncol=nc)\n",
    "ro.r.assign(\"xr\", xrd)\n",
    "yd = numpy.delete(phenotypearr,idx,0)\n",
    "nr = yd.shape[0]\n",
    "nc = 1\n",
    "yrd = ro.r.matrix(yd, nrow=nr, ncol=nc)\n",
    "ro.r.assign(\"yr\", yd)\n",
    "\n",
    "robjects.r('''\n",
    "genotypenod2 <- function(x,y){\n",
    " # genotype\n",
    " fit.gen <- glm(y ~ as.factor(x), family = \"binomial\")\n",
    " # additive  \n",
    " fit.add <- glm(y ~ as.numeric(x), family = \"binomial\")\n",
    " print(\"GENOTYPE\")\n",
    " print(summary(fit.gen))\n",
    " print(\"ADDITIVE\")\n",
    " print(summary(fit.add))\n",
    " gen.phen <- data.frame(cbind(y,x))\n",
    " colnames(gen.phen) <- c(\"pheno\",\"nod2dosage\")\n",
    " print(table(gen.phen))\n",
    "  print(anova(fit.add,fit.gen))\n",
    " print(pchisq(8.9986,2,lower.tail = F))\n",
    "}\n",
    "''')\n",
    "pltf = robjects.globalenv['genotypenod2']\n",
    "pltf = robjects.r['genotypenod2']\n",
    "res = pltf(xrd,yrd)\n"
   ]
  },
  {
   "cell_type": "markdown",
   "metadata": {},
   "source": [
    "How about if we make sure that we are not simply measuring R702W and G908R together:"
   ]
  },
  {
   "cell_type": "code",
   "execution_count": 334,
   "metadata": {
    "collapsed": false
   },
   "outputs": [],
   "source": [
    "## Compound het analysis \n",
    "idx = numpy.where(((x[:,4] == 1) & (x[:,6] == 1)) | ((x[:,4] == 1) & (x[:,7] == 1)) | ((x[:,7] == 1) & (x[:,6] == 1)))\n",
    "idx2 = numpy.where(x == 2) \n",
    "idxf = numpy.unique(numpy.append(idx[0],idx2[0], axis = 0))\n",
    "idxf.sort()\n",
    "\n",
    "\n"
   ]
  },
  {
   "cell_type": "code",
   "execution_count": 335,
   "metadata": {
    "collapsed": false
   },
   "outputs": [
    {
     "data": {
      "text/plain": [
       "(4763, 8)"
      ]
     },
     "execution_count": 335,
     "metadata": {},
     "output_type": "execute_result"
    }
   ],
   "source": [
    "x2 = numpy.delete(x,idxf,0)\n",
    "x2.shape"
   ]
  },
  {
   "cell_type": "code",
   "execution_count": 336,
   "metadata": {
    "collapsed": false
   },
   "outputs": [
    {
     "name": "stdout",
     "output_type": "stream",
     "text": [
      "[1] \"GENOTYPE\"\n",
      "\n",
      "Call:\n",
      "glm(formula = y ~ as.factor(x), family = \"binomial\")\n",
      "\n",
      "Deviance Residuals: \n",
      "    Min       1Q   Median       3Q      Max  \n",
      "-1.7370  -0.8757  -0.8757   1.2485   1.5128  \n",
      "\n",
      "Coefficients:\n",
      "              Estimate Std. Error z value Pr(>|z|)    \n",
      "(Intercept)   -0.76087    0.03654 -20.823   <2e-16 ***\n",
      "as.factor(x)1  0.59535    0.06851   8.690   <2e-16 ***\n",
      "as.factor(x)2  2.01933    0.22956   8.796   <2e-16 ***\n",
      "---\n",
      "Signif. codes:  0 '***' 0.001 '**' 0.01 '*' 0.05 '.' 0.1 ' ' 1 \n",
      "\n",
      "(Dispersion parameter for binomial family taken to be 1)\n",
      "\n",
      "    Null deviance: 6249.7  on 4762  degrees of freedom\n",
      "Residual deviance: 6092.0  on 4760  degrees of freedom\n",
      "AIC: 6098\n",
      "\n",
      "Number of Fisher Scoring iterations: 4\n",
      "\n",
      "[1] \"ADDITIVE\"\n",
      "\n",
      "Call:\n",
      "glm(formula = y ~ as.numeric(x), family = \"binomial\")\n",
      "\n",
      "Deviance Residuals: \n",
      "    Min       1Q   Median       3Q      Max  \n",
      "-1.4572  -0.8688  -0.8688   1.2078   1.5213  \n",
      "\n",
      "Coefficients:\n",
      "              Estimate Std. Error z value Pr(>|z|)    \n",
      "(Intercept)   -0.77973    0.03620  -21.54   <2e-16 ***\n",
      "as.numeric(x)  0.70852    0.05906   12.00   <2e-16 ***\n",
      "---\n",
      "Signif. codes:  0 '***' 0.001 '**' 0.01 '*' 0.05 '.' 0.1 ' ' 1 \n",
      "\n",
      "(Dispersion parameter for binomial family taken to be 1)\n",
      "\n",
      "    Null deviance: 6249.7  on 4762  degrees of freedom\n",
      "Residual deviance: 6103.3  on 4761  degrees of freedom\n",
      "AIC: 6107.3\n",
      "\n",
      "Number of Fisher Scoring iterations: 4\n",
      "\n",
      "     nod2dosage\n",
      "pheno    0    1    2\n",
      "    0 2352  649   25\n",
      "    1 1099  550   88\n",
      "Analysis of Deviance Table\n",
      "\n",
      "Model 1: y ~ as.numeric(x)\n",
      "Model 2: y ~ as.factor(x)\n",
      "  Resid. Df Resid. Dev Df Deviance\n",
      "1      4761     6103.3            \n",
      "2      4760     6092.0  1   11.271\n",
      "[1] 0.003568892\n"
     ]
    }
   ],
   "source": [
    "nod2dosagesansmajor = numpy.sum(x2,axis = 1)\n",
    "nod2dosagesansmajor[nod2dosagesansmajor > 2] = 2 \n",
    "nod2dosagesansmajor.shape\n",
    "xd = nod2dosagesansmajor\n",
    "nr= xd.shape[0]\n",
    "nc = 1\n",
    "xrd = ro.r.matrix(xd, nrow=nr, ncol=nc)\n",
    "ro.r.assign(\"xr\", xrd)\n",
    "yd = numpy.delete(phenotypearr,idxf,0)\n",
    "nr = yd.shape[0]\n",
    "nc = 1\n",
    "yrd = ro.r.matrix(yd, nrow=nr, ncol=nc)\n",
    "ro.r.assign(\"yr\", yd)\n",
    "\n",
    "robjects.r('''\n",
    "genotypenod2 <- function(x,y){\n",
    " # genotype\n",
    " fit.gen <- glm(y ~ as.factor(x), family = \"binomial\")\n",
    " # additive  \n",
    " fit.add <- glm(y ~ as.numeric(x), family = \"binomial\")\n",
    " print(\"GENOTYPE\")\n",
    " print(summary(fit.gen))\n",
    " print(\"ADDITIVE\")\n",
    " print(summary(fit.add))\n",
    " gen.phen <- data.frame(cbind(y,x))\n",
    " colnames(gen.phen) <- c(\"pheno\",\"nod2dosage\")\n",
    " print(table(gen.phen))\n",
    "  print(anova(fit.add,fit.gen))\n",
    " print(pchisq(11.271,2,lower.tail = F))\n",
    "}\n",
    "''')\n",
    "pltf = robjects.globalenv['genotypenod2']\n",
    "pltf = robjects.r['genotypenod2']\n",
    "res = pltf(xrd,yrd)\n"
   ]
  },
  {
   "cell_type": "markdown",
   "metadata": {},
   "source": [
    "## Assessing for deviation from non-additivity in *LRRK2* "
   ]
  },
  {
   "cell_type": "code",
   "execution_count": 337,
   "metadata": {
    "collapsed": true
   },
   "outputs": [],
   "source": [
    "inds = pyplinkseq.ind_fetch('indiv=@vcftmp/ajcd.indivs', 'cd')\n",
    "var = pyplinkseq.var_fetch('indiv=@vcftmp/ajcd.indivs downcode reg=chr12:40740686,chr12:40734202')\n"
   ]
  },
  {
   "cell_type": "code",
   "execution_count": 338,
   "metadata": {
    "collapsed": true
   },
   "outputs": [],
   "source": [
    "varids = []\n",
    "for i in range(0,len(var)):\n",
    "    varids.append(str(var[i].CHR) + ':' + str(var[i].BP1) + '_' + str(var[i].CON.REF) + '/' + str(var[i].CON.ALT))"
   ]
  },
  {
   "cell_type": "code",
   "execution_count": 339,
   "metadata": {
    "collapsed": false
   },
   "outputs": [
    {
     "name": "stdout",
     "output_type": "stream",
     "text": [
      "12:40734202_G/A p.2019G>S\n",
      "12:40740686_A/G p.2081N>D\n"
     ]
    }
   ],
   "source": [
    "for i in range(0,len(var)):\n",
    "    details = pyplinkseq.annotate(var[i].CHR,var[i].BP1,var[i].CON.REF,var[i].CON.ALT,\"details\",\"\")\n",
    "    hgvs = [j.split('=')[1] for j in details.split(',') if j.split('=')[0] == 'HGVS']\n",
    "    prachange = pyplinkseq.annotate(var[i].CHR,var[i].BP1,var[i].CON.REF,var[i].CON.ALT,\"protein\",\"\")\n",
    "    if len(hgvs) > 1:\n",
    "        print(str(var[i].CHR) + ':' + str(var[i].BP1) + '_' + var[i].CON.REF + '/' + var[i].CON.ALT,hgvs[0])\n",
    "    else:\n",
    "        print(str(var[i].CHR) + ':' + str(var[i].BP1) + '_' + var[i].CON.REF + '/' + var[i].CON.ALT,prachange)"
   ]
  },
  {
   "cell_type": "code",
   "execution_count": 340,
   "metadata": {
    "collapsed": true
   },
   "outputs": [],
   "source": [
    "genotypelists = []\n",
    "for varnum in xrange(int(var.__len__())):\n",
    "    genos = []\n",
    "    for genotypenum in xrange(len(var[varnum].CON.GENO.GT)):\n",
    "        genos.append(var[varnum].CON.GENO.GT[genotypenum])\n",
    "    genos = [gt if gt >= 0 else 0 for gt in genos]\n",
    "    genotypelists.append(genos)"
   ]
  },
  {
   "cell_type": "code",
   "execution_count": 341,
   "metadata": {
    "collapsed": false
   },
   "outputs": [
    {
     "name": "stdout",
     "output_type": "stream",
     "text": [
      "(4912, 2) (4912,)\n"
     ]
    }
   ],
   "source": [
    "genotypelists = numpy.array(genotypelists)\n",
    "genotypelists = genotypelists.T\n",
    "print(genotypelists.shape,phenotypearr.shape)"
   ]
  },
  {
   "cell_type": "code",
   "execution_count": 342,
   "metadata": {
    "collapsed": false
   },
   "outputs": [
    {
     "data": {
      "text/plain": [
       "<Array - Python:0x7fdf513fdfc8 / R:0x72f1620>\n",
       "[       0,        0,        0, ...,        1,        1,        1]"
      ]
     },
     "execution_count": 342,
     "metadata": {},
     "output_type": "execute_result"
    }
   ],
   "source": [
    "xlrrk2 = genotypelists\n",
    "nr,nc = xlrrk2.shape\n",
    "xlrrk2r = ro.r.matrix(xlrrk2, nrow=nr, ncol=nc)\n",
    "ro.r.assign(\"xlrrk2r\", xlrrk2r)\n",
    "ro.r.assign(\"var.ids\", robjects.StrVector(varids))\n",
    "y = phenotypearr\n",
    "nr = y.shape[0]\n",
    "nc = 1\n",
    "yr = ro.r.matrix(y, nrow=nr, ncol=nc)\n",
    "ro.r.assign(\"yr\", y)\n"
   ]
  },
  {
   "cell_type": "code",
   "execution_count": 343,
   "metadata": {
    "collapsed": false
   },
   "outputs": [
    {
     "name": "stdout",
     "output_type": "stream",
     "text": [
      "[1] \"GENOTYPE\"\n",
      "\n",
      "Call:\n",
      "glm(formula = y ~ as.factor(x), family = \"binomial\")\n",
      "\n",
      "Deviance Residuals: \n",
      "    Min       1Q   Median       3Q      Max  \n",
      "-1.1284  -0.9502  -0.9502   1.4231   1.4231  \n",
      "\n",
      "Coefficients:\n",
      "              Estimate Std. Error z value Pr(>|z|)    \n",
      "(Intercept)   -0.56119    0.03197 -17.556  < 2e-16 ***\n",
      "as.factor(x)1  0.44486    0.08461   5.258 1.46e-07 ***\n",
      "as.factor(x)2  0.33805    0.38862   0.870    0.384    \n",
      "---\n",
      "Signif. codes:  0 '***' 0.001 '**' 0.01 '*' 0.05 '.' 0.1 ' ' 1 \n",
      "\n",
      "(Dispersion parameter for binomial family taken to be 1)\n",
      "\n",
      "    Null deviance: 6514.3  on 4911  degrees of freedom\n",
      "Residual deviance: 6486.5  on 4909  degrees of freedom\n",
      "AIC: 6492.5\n",
      "\n",
      "Number of Fisher Scoring iterations: 4\n",
      "\n",
      "[1] \"ADDITIVE\"\n",
      "\n",
      "Call:\n",
      "glm(formula = y ~ as.numeric(x), family = \"binomial\")\n",
      "\n",
      "Deviance Residuals: \n",
      "    Min       1Q   Median       3Q      Max  \n",
      "-1.2842  -0.9514  -0.9514   1.4217   1.4217  \n",
      "\n",
      "Coefficients:\n",
      "              Estimate Std. Error z value Pr(>|z|)    \n",
      "(Intercept)   -0.55796    0.03186 -17.514  < 2e-16 ***\n",
      "as.numeric(x)  0.40276    0.07852   5.129 2.91e-07 ***\n",
      "---\n",
      "Signif. codes:  0 '***' 0.001 '**' 0.01 '*' 0.05 '.' 0.1 ' ' 1 \n",
      "\n",
      "(Dispersion parameter for binomial family taken to be 1)\n",
      "\n",
      "    Null deviance: 6514.3  on 4911  degrees of freedom\n",
      "Residual deviance: 6488.2  on 4910  degrees of freedom\n",
      "AIC: 6492.2\n",
      "\n",
      "Number of Fisher Scoring iterations: 4\n",
      "\n",
      "     nod2dosage\n",
      "pheno    0    1    2\n",
      "    0 2694  346   15\n",
      "    1 1537  308   12\n",
      "Analysis of Deviance Table\n",
      "\n",
      "Model 1: y ~ as.numeric(x)\n",
      "Model 2: y ~ as.factor(x)\n",
      "  Resid. Df Resid. Dev Df Deviance\n",
      "1      4910     6488.2            \n",
      "2      4909     6486.5  1   1.7454\n",
      "[1] 0.4178219\n"
     ]
    }
   ],
   "source": [
    "lrrk2dosage = numpy.sum(xlrrk2,axis = 1)\n",
    "lrrk2dosage[lrrk2dosage > 2] = 2 \n",
    "lrrk2dosage.shape\n",
    "xlrrk2d = lrrk2dosage\n",
    "nr = xlrrk2d.shape[0]\n",
    "nc = 1\n",
    "xrlrrk2d = ro.r.matrix(xlrrk2d, nrow=nr, ncol=nc)\n",
    "ro.r.assign(\"xr\", xrlrrk2d)\n",
    "yd = phenotypearr\n",
    "nr = yd.shape[0]\n",
    "nc = 1\n",
    "yrd = ro.r.matrix(yd, nrow=nr, ncol=nc)\n",
    "ro.r.assign(\"yr\", yd)\n",
    "\n",
    "robjects.r('''\n",
    "genotypenod2 <- function(x,y){\n",
    " # genotype\n",
    " fit.gen <- glm(y ~ as.factor(x), family = \"binomial\")\n",
    " # additive  \n",
    " fit.add <- glm(y ~ as.numeric(x), family = \"binomial\")\n",
    " print(\"GENOTYPE\")\n",
    " print(summary(fit.gen))\n",
    " print(\"ADDITIVE\")\n",
    " print(summary(fit.add))\n",
    " gen.phen <- data.frame(cbind(y,x))\n",
    " colnames(gen.phen) <- c(\"pheno\",\"nod2dosage\")\n",
    " print(table(gen.phen))\n",
    " print(anova(fit.add,fit.gen))\n",
    " print(pchisq(1.7454,2,lower.tail = F))\n",
    "}\n",
    "''')\n",
    "pltf = robjects.globalenv['genotypenod2']\n",
    "pltf = robjects.r['genotypenod2']\n",
    "res = pltf(xrlrrk2d,yrd)"
   ]
  },
  {
   "cell_type": "markdown",
   "metadata": {
    "collapsed": true
   },
   "source": [
    "## Assessing GxG interaction between *NOD2* and *LRRK2* alleles"
   ]
  },
  {
   "cell_type": "code",
   "execution_count": 346,
   "metadata": {
    "collapsed": false
   },
   "outputs": [
    {
     "name": "stdout",
     "output_type": "stream",
     "text": [
      "[1] \"GENOTYPE\"\n",
      "\n",
      "Call:\n",
      "glm(formula = y ~ as.factor(x) * as.factor(x2), family = \"binomial\")\n",
      "\n",
      "Deviance Residuals: \n",
      "    Min       1Q   Median       3Q      Max  \n",
      "-1.9174  -0.8511  -0.8511   1.2649   1.5435  \n",
      "\n",
      "Coefficients:\n",
      "                              Estimate Std. Error z value Pr(>|z|)    \n",
      "(Intercept)                   -0.82894    0.03971 -20.875  < 2e-16 ***\n",
      "as.factor(x)1                  0.62569    0.07450   8.398  < 2e-16 ***\n",
      "as.factor(x)2                  2.10869    0.16962  12.432  < 2e-16 ***\n",
      "as.factor(x2)1                 0.48617    0.10499   4.631 3.65e-06 ***\n",
      "as.factor(x2)2                 0.47227    0.49440   0.955    0.339    \n",
      "as.factor(x)1:as.factor(x2)1  -0.21393    0.19497  -1.097    0.273    \n",
      "as.factor(x)2:as.factor(x2)1  -0.10092    0.45618  -0.221    0.825    \n",
      "as.factor(x)1:as.factor(x2)2  -0.77984    0.88416  -0.882    0.378    \n",
      "as.factor(x)2:as.factor(x2)2  10.81405  229.62906   0.047    0.962    \n",
      "---\n",
      "Signif. codes:  0 '***' 0.001 '**' 0.01 '*' 0.05 '.' 0.1 ' ' 1 \n",
      "\n",
      "(Dispersion parameter for binomial family taken to be 1)\n",
      "\n",
      "    Null deviance: 6514.3  on 4911  degrees of freedom\n",
      "Residual deviance: 6212.9  on 4903  degrees of freedom\n",
      "AIC: 6230.9\n",
      "\n",
      "Number of Fisher Scoring iterations: 11\n",
      "\n"
     ]
    }
   ],
   "source": [
    "robjects.r('''\n",
    "gg.interaction.lrrk2nod2 <- function(x,x2,y){\n",
    " # genotype\n",
    " fit.gen <- glm(y ~ as.factor(x)*as.factor(x2), family = \"binomial\")\n",
    " print(\"GENOTYPE\")\n",
    " print(summary(fit.gen))\n",
    "}\n",
    "''')\n",
    "pltf = robjects.globalenv['gg.interaction.lrrk2nod2']\n",
    "pltf = robjects.r['gg.interaction.lrrk2nod2']\n",
    "res = pltf(xrnod2d,xrlrrk2d,yrd)"
   ]
  }
 ],
 "metadata": {
  "kernelspec": {
   "display_name": "Python 2",
   "language": "python",
   "name": "python2"
  },
  "language_info": {
   "codemirror_mode": {
    "name": "ipython",
    "version": 2
   },
   "file_extension": ".py",
   "mimetype": "text/x-python",
   "name": "python",
   "nbconvert_exporter": "python",
   "pygments_lexer": "ipython2",
   "version": "2.7.11"
  }
 },
 "nbformat": 4,
 "nbformat_minor": 0
}
